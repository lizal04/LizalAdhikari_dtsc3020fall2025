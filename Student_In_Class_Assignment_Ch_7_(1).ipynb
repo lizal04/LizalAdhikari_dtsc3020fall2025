{
  "nbformat": 4,
  "nbformat_minor": 0,
  "metadata": {
    "colab": {
      "provenance": [],
      "include_colab_link": true
    },
    "kernelspec": {
      "name": "python3",
      "display_name": "Python 3"
    },
    "language_info": {
      "name": "python"
    }
  },
  "cells": [
    {
      "cell_type": "markdown",
      "metadata": {
        "id": "view-in-github",
        "colab_type": "text"
      },
      "source": [
        "<a href=\"https://colab.research.google.com/github/lizal04/LizalAdhikari_dtsc3020fall2025/blob/main/Student_In_Class_Assignment_Ch_7_(1).ipynb\" target=\"_parent\"><img src=\"https://colab.research.google.com/assets/colab-badge.svg\" alt=\"Open In Colab\"/></a>"
      ]
    },
    {
      "cell_type": "markdown",
      "source": [
        "#Write a Python program that simulates a self-checkout system.**\n",
        "Use this price list: prices: apple= 1 ,  bread= 2.5 ,  milk=5 ,  egg= 6\n",
        "\n",
        "Program requirements:\n",
        "\n",
        "The program should repeatedly ask the user to enter an item name or enter \"pay\".\n",
        "\n",
        "\n",
        "• Valid inputs are the names of the **items above ** or the word \"pay\".\n",
        "\n",
        "\n",
        "If the entered item exists in the price list:\n",
        "\n",
        "• Add its price to the running total.\n",
        "\n",
        "\n",
        "• Print the message: \"Added , running total: $\".\n",
        "\n",
        "\n",
        "If the entered item does not exist in the price list:\n",
        "\n",
        "• Print \"Item not found\".\n",
        "\n",
        "If the user types \"pay\":\n",
        "\n",
        "• Stop asking for input.\n",
        "\n",
        "Show the following three values:\n",
        "\n",
        "\n",
        "**Subtotal: the sum of all valid items entered.**\n",
        "\n",
        "**Tax: 8% of the subtotal. (0.08 * total)**\n",
        "\n",
        "**Final total: subtotal + tax.**\n",
        "\n",
        "\n",
        "Run your program with this purchase list. For example, for one person whose purchase is:apple, pizza, bread, pay *italicised text*"
      ],
      "metadata": {
        "id": "t1xs1X02Owtz"
      }
    },
    {
      "cell_type": "code",
      "execution_count": 10,
      "metadata": {
        "id": "nTH6mvq1OqHP",
        "colab": {
          "base_uri": "https://localhost:8080/"
        },
        "outputId": "509fed9f-7953-4d87-be55-20a4b8237d83"
      },
      "outputs": [
        {
          "output_type": "stream",
          "name": "stdout",
          "text": [
            "Enter an item name or enter 'pay': apple\n",
            "Added apple to the running total: $1.00\n",
            "Enter an item name or enter 'pay': bread\n",
            "Added bread to the running total: $3.50\n",
            "Enter an item name or enter 'pay': pizza\n",
            "Item not found\n",
            "Enter an item name or enter 'pay': pay\n",
            "Subtotal: $3.50\n",
            "tax =  0.28\n",
            "total =  3.78\n"
          ]
        }
      ],
      "source": [
        "prices = {\n",
        "  \"apple\" :1 ,\n",
        "  \"bread\": 2.5 ,\n",
        "  \"milk\" : 5 ,\n",
        "  \"egg\": 6,\n",
        "}\n",
        "running_total = 0\n",
        "while True:\n",
        "    item = input(\"Enter an item name or enter 'pay': \").lower().replace(\" \",\"\")\n",
        "    if item in prices.keys():\n",
        "      running_total += prices[item]\n",
        "      print(f\"Added {item} to the running total: ${running_total:.2f}\")\n",
        "    elif item == \"pay\":\n",
        "      print(f\"Subtotal: ${running_total:.2f}\")\n",
        "      tax = running_total * 0.08\n",
        "      print(f\"tax =  {tax:.2f}\")\n",
        "      total = running_total + tax\n",
        "      print (f\"total =  {total:.2f}\")\n",
        "      break\n",
        "    else:\n",
        "      print(\"Item not found\")\n",
        ""
      ]
    }
  ]
}
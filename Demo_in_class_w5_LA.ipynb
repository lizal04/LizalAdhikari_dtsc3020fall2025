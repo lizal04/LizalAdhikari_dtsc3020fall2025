{
  "nbformat": 4,
  "nbformat_minor": 0,
  "metadata": {
    "colab": {
      "provenance": [],
      "authorship_tag": "ABX9TyMxR6HUu5L74DYs7RQinHLu",
      "include_colab_link": true
    },
    "kernelspec": {
      "name": "python3",
      "display_name": "Python 3"
    },
    "language_info": {
      "name": "python"
    }
  },
  "cells": [
    {
      "cell_type": "markdown",
      "metadata": {
        "id": "view-in-github",
        "colab_type": "text"
      },
      "source": [
        "<a href=\"https://colab.research.google.com/github/lizal04/LizalAdhikari_dtsc3020fall2025/blob/main/Demo_in_class_w5_LA.ipynb\" target=\"_parent\"><img src=\"https://colab.research.google.com/assets/colab-badge.svg\" alt=\"Open In Colab\"/></a>"
      ]
    },
    {
      "cell_type": "code",
      "execution_count": 10,
      "metadata": {
        "colab": {
          "base_uri": "https://localhost:8080/"
        },
        "id": "QQEtPl7cp0W1",
        "outputId": "9b0cdb28-c03a-4656-f16a-91eaa1c00919"
      },
      "outputs": [
        {
          "output_type": "stream",
          "name": "stdout",
          "text": [
            "Free butter and spoon included!\n"
          ]
        }
      ],
      "source": [
        "cart = [\"bread\", \"milk\", \"apple\",\"eggs\",\"rice\"]\n",
        "if \"bread\" in cart and \"milk\" in cart and (\"eggs\"in cart or \"rice\"in cart):\n",
        "  print (\"Free butter and spoon included!\")\n",
        "elif \"bread\" in cart and \"milk\" in cart:\n",
        "  print (\"Free butter included!\")\n",
        "elif \"eggs\" in cart or \"rice\" in cart:\n",
        "  print (\"Free spoon included!\")\n",
        "else:\n",
        "  print (\"No free gifts!\")"
      ]
    }
  ]
}
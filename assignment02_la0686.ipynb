{
  "nbformat": 4,
  "nbformat_minor": 0,
  "metadata": {
    "colab": {
      "provenance": [],
      "authorship_tag": "ABX9TyP6kTw3Z+nC1KCZaBWZVsz5",
      "include_colab_link": true
    },
    "kernelspec": {
      "name": "python3",
      "display_name": "Python 3"
    },
    "language_info": {
      "name": "python"
    }
  },
  "cells": [
    {
      "cell_type": "markdown",
      "metadata": {
        "id": "view-in-github",
        "colab_type": "text"
      },
      "source": [
        "<a href=\"https://colab.research.google.com/github/lizal04/LizalAdhikari_dtsc3020fall2025/blob/main/assignment02_la0686.ipynb\" target=\"_parent\"><img src=\"https://colab.research.google.com/assets/colab-badge.svg\" alt=\"Open In Colab\"/></a>"
      ]
    },
    {
      "cell_type": "code",
      "source": [
        "thelist = [\"apple\", \"banana\",\"mango\"]\n",
        "print (thelist)"
      ],
      "metadata": {
        "colab": {
          "base_uri": "https://localhost:8080/"
        },
        "id": "ilfasdDXnPxs",
        "outputId": "077368f5-cd40-4e77-a398-549e24180e39"
      },
      "execution_count": 5,
      "outputs": [
        {
          "output_type": "stream",
          "name": "stdout",
          "text": [
            "['apple', 'banana', 'mango']\n"
          ]
        }
      ]
    },
    {
      "cell_type": "code",
      "source": [
        "print(thelist[0])\n",
        "print (thelist[1])\n",
        "print (thelist[2])"
      ],
      "metadata": {
        "colab": {
          "base_uri": "https://localhost:8080/"
        },
        "id": "I595yHagoPrc",
        "outputId": "fd12ccdd-49e8-4a5b-ee16-812de98a80cb"
      },
      "execution_count": 9,
      "outputs": [
        {
          "output_type": "stream",
          "name": "stdout",
          "text": [
            "apple\n",
            "banana\n",
            "mango\n"
          ]
        }
      ]
    },
    {
      "cell_type": "code",
      "source": [
        "names = [\"Lizal\", \"Alisha\", \"lizeth\", \"Alex\"]\n",
        "print(names)\n",
        "names[0] = \"Natlie\"\n",
        "print (names)"
      ],
      "metadata": {
        "colab": {
          "base_uri": "https://localhost:8080/"
        },
        "id": "qdG99JnXoa_M",
        "outputId": "4c06f001-2e80-4fa9-ce64-d90baa1d178d"
      },
      "execution_count": 4,
      "outputs": [
        {
          "output_type": "stream",
          "name": "stdout",
          "text": [
            "['Lizal', 'Alisha', 'lizeth', 'Alex']\n",
            "['Natlie', 'Alisha', 'lizeth', 'Alex']\n"
          ]
        }
      ]
    },
    {
      "cell_type": "code",
      "source": [
        "Vehicles = [\"car\", \"bus\", \"bicycle\", \"truck\", \"boat\"]\n",
        "print(Vehicles)\n",
        "Vehicles.append(\"van\")\n",
        "print(Vehicles)"
      ],
      "metadata": {
        "colab": {
          "base_uri": "https://localhost:8080/"
        },
        "id": "fQlZOGvSvkNr",
        "outputId": "4831cc4d-54c5-4b96-d183-d2d780a537a3"
      },
      "execution_count": 7,
      "outputs": [
        {
          "output_type": "stream",
          "name": "stdout",
          "text": [
            "['car', 'bus', 'bicycle', 'truck', 'boat']\n",
            "['car', 'bus', 'bicycle', 'truck', 'boat', 'van']\n"
          ]
        }
      ]
    },
    {
      "cell_type": "code",
      "source": [
        "Foods = [\"pizza\", \"pasta\", \"sushi\", \"curry\", \"rice\"]\n",
        "print(Foods)\n",
        "Foods.remove(\"pizza\")\n",
        "print(Foods)"
      ],
      "metadata": {
        "colab": {
          "base_uri": "https://localhost:8080/"
        },
        "id": "7R1FtL2AwXeI",
        "outputId": "f25f8dbb-8442-4afe-d7c2-34f90968eadd"
      },
      "execution_count": 8,
      "outputs": [
        {
          "output_type": "stream",
          "name": "stdout",
          "text": [
            "['pizza', 'pasta', 'sushi', 'curry', 'rice']\n",
            "['pasta', 'sushi', 'curry', 'rice']\n"
          ]
        }
      ]
    },
    {
      "cell_type": "code",
      "source": [
        "cities = [\"Kathmandu\", \"Dallas\", \"Paris\", \"Seattle\"]\n",
        "cities.sort()\n",
        "cities.reverse()\n",
        "print(cities)"
      ],
      "metadata": {
        "colab": {
          "base_uri": "https://localhost:8080/"
        },
        "id": "icnHM1LI1N0e",
        "outputId": "a5027c9b-e346-410d-fdef-811519cf9f68"
      },
      "execution_count": 10,
      "outputs": [
        {
          "output_type": "stream",
          "name": "stdout",
          "text": [
            "['Seattle', 'Paris', 'Kathmandu', 'Dallas']\n"
          ]
        }
      ]
    },
    {
      "cell_type": "code",
      "source": [
        "animals = [\"Dog\", \"Cat\", \"Rabbit\"]\n",
        "for animal in animals:\n",
        "  print(animal)\n"
      ],
      "metadata": {
        "colab": {
          "base_uri": "https://localhost:8080/"
        },
        "id": "7UWY6a292Pzr",
        "outputId": "6fde7795-0261-4a16-c54b-51a5d0f7db6e"
      },
      "execution_count": 17,
      "outputs": [
        {
          "output_type": "stream",
          "name": "stdout",
          "text": [
            "Dog\n",
            "Cat\n",
            "Rabbit\n"
          ]
        }
      ]
    },
    {
      "cell_type": "code",
      "source": [
        "numbers = [1,2,3,4,5]\n",
        "for number in numbers:\n",
        "  print(number * 2)"
      ],
      "metadata": {
        "colab": {
          "base_uri": "https://localhost:8080/"
        },
        "id": "P0alaW8Q3SHH",
        "outputId": "6cc9d097-b6d8-4ff2-d6c0-43f31b6847c8"
      },
      "execution_count": 18,
      "outputs": [
        {
          "output_type": "stream",
          "name": "stdout",
          "text": [
            "2\n",
            "4\n",
            "6\n",
            "8\n",
            "10\n"
          ]
        }
      ]
    },
    {
      "cell_type": "code",
      "source": [
        "friends = [\"Jonathan\", \"Ray\", \"Lizeth\", \"Khushi\", \"Jordan\", \"Paxton\"]\n",
        "print(friends[:3])\n",
        "print (friends [3:])"
      ],
      "metadata": {
        "colab": {
          "base_uri": "https://localhost:8080/"
        },
        "id": "TywSZqoy30jd",
        "outputId": "295533e6-b8eb-4fa9-ef64-be2f65de5cef"
      },
      "execution_count": 20,
      "outputs": [
        {
          "output_type": "stream",
          "name": "stdout",
          "text": [
            "['Jonathan', 'Ray', 'Lizeth']\n",
            "['Khushi', 'Jordan', 'Paxton']\n"
          ]
        }
      ]
    },
    {
      "cell_type": "code",
      "source": [
        "numbers= list(range(1, 11))\n",
        "print(numbers)"
      ],
      "metadata": {
        "colab": {
          "base_uri": "https://localhost:8080/"
        },
        "id": "y09Xiatb4byZ",
        "outputId": "d3db10c9-bbab-4bb7-a423-0b12af91b908"
      },
      "execution_count": 23,
      "outputs": [
        {
          "output_type": "stream",
          "name": "stdout",
          "text": [
            "[1, 2, 3, 4, 5, 6, 7, 8, 9, 10]\n"
          ]
        }
      ]
    },
    {
      "cell_type": "code",
      "source": [
        "square = [i*i for i in range (1,6)]\n",
        "print (square)"
      ],
      "metadata": {
        "colab": {
          "base_uri": "https://localhost:8080/"
        },
        "id": "oTRE0ECU6yPH",
        "outputId": "a96ae15b-5a08-4a0e-896e-1035476961d6"
      },
      "execution_count": 24,
      "outputs": [
        {
          "output_type": "stream",
          "name": "stdout",
          "text": [
            "[1, 4, 9, 16, 25]\n"
          ]
        }
      ]
    }
  ]
}
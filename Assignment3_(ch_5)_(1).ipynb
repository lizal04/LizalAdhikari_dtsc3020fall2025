{
  "cells": [
    {
      "cell_type": "markdown",
      "metadata": {
        "id": "view-in-github",
        "colab_type": "text"
      },
      "source": [
        "<a href=\"https://colab.research.google.com/github/lizal04/LizalAdhikari_dtsc3020fall2025/blob/main/Assignment3_(ch_5)_(1).ipynb\" target=\"_parent\"><img src=\"https://colab.research.google.com/assets/colab-badge.svg\" alt=\"Open In Colab\"/></a>"
      ]
    },
    {
      "cell_type": "markdown",
      "metadata": {
        "id": "nevCG4Qs0b8R"
      },
      "source": [
        "# DTSC 3020 – Assignment 3\n",
        "\n",
        "This exercise focuses on **if statements and conditional logic** in Python and is designed to help students practice decision-making structures.\n",
        "\n",
        "**Total points:** 5  \n",
        "**Deadline:** Friday at midnight  \n",
        "**Submission:** Upload your Python file to your GitHub repository and submit **only your GitHub link**.\n",
        "\n",
        "### Expectations\n",
        "- Write complete answers and run all cells before submission.\n",
        "- Keep the notebook clean (no unnecessary code).\n",
        "\n"
      ],
      "id": "nevCG4Qs0b8R"
    },
    {
      "cell_type": "markdown",
      "metadata": {
        "id": "gfumj0DY0b8f"
      },
      "source": [
        "## Question 1 – Movie Ticket System\n",
        "Write a Python code that checks the price of a movie ticket.\n",
        "If the age is between 0 and 11 it is Child, if between 12 and 17 it is Teen, and if 18 or older it is Adult.\n",
        "Print the category and the ticket price (you choose the price).\n",
        "Run the program with age = 16."
      ],
      "id": "gfumj0DY0b8f"
    },
    {
      "cell_type": "code",
      "metadata": {
        "id": "67TGDT6w0b8k",
        "colab": {
          "base_uri": "https://localhost:8080/"
        },
        "outputId": "e9a5525e-74cf-4a38-9a94-248e140ac34c"
      },
      "execution_count": 2,
      "outputs": [
        {
          "output_type": "stream",
          "name": "stdout",
          "text": [
            "Category: Teen\n",
            "Ticket Price: $10.00\n"
          ]
        }
      ],
      "source": [
        "age = 16\n",
        "\n",
        "if 0 <= age <= 11:\n",
        "    category = \"Child\"\n",
        "    price = 8.00\n",
        "elif 12 <= age <= 17:\n",
        "    category = \"Teen\"\n",
        "    price = 10.00\n",
        "elif age >= 18:\n",
        "    category = \"Adult\"\n",
        "    price = 12.00\n",
        "else:\n",
        "    category = \"Invalid\"\n",
        "    price = 0.00\n",
        "\n",
        "print(f\"Category: {category}\")\n",
        "print(f\"Ticket Price: ${price:.2f}\")"
      ],
      "id": "67TGDT6w0b8k"
    },
    {
      "cell_type": "markdown",
      "metadata": {
        "id": "_tUFNVKT0b8r"
      },
      "source": [
        "## Question 2 – Online Store Discount\n",
        "Write a Python code that applies a discount based on the shopping cart total.\n",
        "If the total is less than 50 dollars there is no discount, if the total is between 50 and 99 dollars there is a 10 percent discount, and if the total is 100 dollars or more there is a 20 percent discount.\n",
        "Print the original total, the discount, and the final price.\n",
        "Run the program with cart_total = 85."
      ],
      "id": "_tUFNVKT0b8r"
    },
    {
      "cell_type": "code",
      "metadata": {
        "id": "yTtX719o0b8v",
        "colab": {
          "base_uri": "https://localhost:8080/"
        },
        "outputId": "c3e2face-5f52-4d82-aa54-bea0a9019349"
      },
      "execution_count": 5,
      "outputs": [
        {
          "output_type": "stream",
          "name": "stdout",
          "text": [
            "Original Total: $85.00\n",
            "Discount: $8.50\n",
            "Final Price: $76.50\n"
          ]
        }
      ],
      "source": [
        "\n",
        "cart_total = 85\n",
        "\n",
        "if cart_total < 50:\n",
        "    discount_rate = 0.0\n",
        "elif 50 <= cart_total <= 99:\n",
        "    discount_rate = 0.10\n",
        "else:  # 100 or more\n",
        "    discount_rate = 0.20\n",
        "\n",
        "discount = cart_total * discount_rate\n",
        "final_price = cart_total - discount\n",
        "\n",
        "print(f\"Original Total: ${cart_total:.2f}\")\n",
        "print(f\"Discount: ${discount:.2f}\")\n",
        "print(f\"Final Price: ${final_price:.2f}\")\n",
        "\n"
      ],
      "id": "yTtX719o0b8v"
    },
    {
      "cell_type": "markdown",
      "metadata": {
        "id": "uOUYYC870b8x"
      },
      "source": [
        "## Question 3 – Exam Grading\n",
        "Write a Python code that gives a letter grade for a score.\n",
        "If the score is between 90 and 100 the grade is A, if between 80 and 89 the grade is B, if between 70 and 79 the grade is C, if between 60 and 69 the grade is D, and if below 60 the grade is F.\n",
        "Print the grade and a short message.\n",
        "Run the program with score = 73."
      ],
      "id": "uOUYYC870b8x"
    },
    {
      "cell_type": "code",
      "metadata": {
        "id": "HDtf_YLG0b8y",
        "colab": {
          "base_uri": "https://localhost:8080/"
        },
        "outputId": "d82c6999-3192-48e3-d57a-84cf333efc9c"
      },
      "execution_count": 9,
      "outputs": [
        {
          "output_type": "stream",
          "name": "stdout",
          "text": [
            "Score: 73\n",
            "Grade: C\n",
            "Message: Fair effort, keep improving.\n"
          ]
        }
      ],
      "source": [
        "\n",
        "score = 73\n",
        "\n",
        "if 90 <= score <= 100:\n",
        "    grade = \"A\"\n",
        "    message = \"Excellent work!\"\n",
        "elif 80 <= score <= 89:\n",
        "    grade = \"B\"\n",
        "    message = \"Good job!\"\n",
        "elif 70 <= score <= 79:\n",
        "    grade = \"C\"\n",
        "    message = \"Fair effort, keep improving.\"\n",
        "elif 60 <= score <= 69:\n",
        "    grade = \"D\"\n",
        "    message = \"You passed, but study harder next time.\"\n",
        "elif score < 60:\n",
        "    grade = \"F\"\n",
        "    message = \"Unfortunately, you failed. Don't give up!\"\n",
        "else:\n",
        "    grade = \"Invalid\"\n",
        "    message = \"Score out of range.\"\n",
        "\n",
        "print(f\"Score: {score}\")\n",
        "print(f\"Grade: {grade}\")\n",
        "print(f\"Message: {message}\")\n"
      ],
      "id": "HDtf_YLG0b8y"
    },
    {
      "cell_type": "markdown",
      "metadata": {
        "id": "ZCIKM6Xs0b80"
      },
      "source": [
        "## Question 4 – Parking Fee\n",
        "Write a Python code that calculates parking fees.\n",
        "If the car is parked for 0 to 2 hours the parking is free, if the car is parked for 3 to 5 hours the fee is 3 dollars per hour, and if the car is parked for more than 5 hours the fee is 3 dollars per hour for the first three hours after free and then 5 dollars per hour for the rest.\n",
        "Print the number of hours and the total fee.\n",
        "Run the program with hours = 6."
      ],
      "id": "ZCIKM6Xs0b80"
    },
    {
      "cell_type": "code",
      "metadata": {
        "id": "g3a_sPo50b81",
        "colab": {
          "base_uri": "https://localhost:8080/"
        },
        "outputId": "8d89e78f-7623-47b3-8f33-65627bf180c3"
      },
      "execution_count": 10,
      "outputs": [
        {
          "output_type": "stream",
          "name": "stdout",
          "text": [
            "Hours Parked: 6\n",
            "Total Fee: $14\n"
          ]
        }
      ],
      "source": [
        "\n",
        "hours = 6\n",
        "\n",
        "if 0 <= hours <= 2:\n",
        "    fee = 0\n",
        "elif 3 <= hours <= 5:\n",
        "    fee = hours * 3\n",
        "elif hours > 5:\n",
        "    # First 2 hours are free\n",
        "    # Next 3 hours (hours 3-5) cost $3 each\n",
        "    fee = (3 * 3) + (hours - 5) * 5\n",
        "else:\n",
        "    fee = 0\n",
        "    print(\"Invalid input for hours.\")\n",
        "\n",
        "print(f\"Hours Parked: {hours}\")\n",
        "print(f\"Total Fee: ${fee}\")\n"
      ],
      "id": "g3a_sPo50b81"
    },
    {
      "cell_type": "markdown",
      "metadata": {
        "id": "XBf0-SPz0b83"
      },
      "source": [
        "## Question 5 – Cafeteria Menu\n",
        "Write a Python code that creates a list with three food items.\n",
        "Check if an order is in the list.\n",
        "If the item is in the list print a confirmation, and if the item is not in the list print a polite message.\n",
        "Run the program with menu = ['pizza','salad','sandwich'] and order = 'salad'."
      ],
      "id": "XBf0-SPz0b83"
    },
    {
      "cell_type": "code",
      "metadata": {
        "id": "y52UEMoX0b85",
        "colab": {
          "base_uri": "https://localhost:8080/"
        },
        "outputId": "81b55c71-9479-418f-dd74-1d2ab474932c"
      },
      "execution_count": 11,
      "outputs": [
        {
          "output_type": "stream",
          "name": "stdout",
          "text": [
            "Yes, we have salad! Your order is confirmed.\n"
          ]
        }
      ],
      "source": [
        "\n",
        "menu = ['pizza', 'salad', 'sandwich']\n",
        "order = 'salad'\n",
        "\n",
        "if order in menu:\n",
        "    print(f\"Yes, we have {order}! Your order is confirmed.\")\n",
        "else:\n",
        "    print(f\"Sorry, we don’t have {order} on the menu. Please choose something else.\")\n"
      ],
      "id": "y52UEMoX0b85"
    },
    {
      "cell_type": "markdown",
      "metadata": {
        "id": "-60rL71F0b86"
      },
      "source": [
        "## Question 6 – Job Application Filter\n",
        "Write a Python code that checks if a person is eligible for a job.\n",
        "If the person is older than 22 and has more than 2 years of experience print Accepted.\n",
        "Otherwise print Not Accepted.\n",
        "Run the program with age = 23 and experience = 1."
      ],
      "id": "-60rL71F0b86"
    },
    {
      "cell_type": "code",
      "metadata": {
        "id": "-h964CqY0b88",
        "colab": {
          "base_uri": "https://localhost:8080/"
        },
        "outputId": "392fd2d6-b193-401f-c45e-8aeb23ae8b63"
      },
      "execution_count": 12,
      "outputs": [
        {
          "output_type": "stream",
          "name": "stdout",
          "text": [
            "Not Accepted\n"
          ]
        }
      ],
      "source": [
        "age = 23\n",
        "experience = 1\n",
        "\n",
        "if age > 22 and experience > 2:\n",
        "    print(\"Accepted\")\n",
        "else:\n",
        "    print(\"Not Accepted\")\n"
      ],
      "id": "-h964CqY0b88"
    },
    {
      "cell_type": "markdown",
      "metadata": {
        "id": "MOMMxnuE0b8-"
      },
      "source": [
        "## Question 7 – Clothing Advice\n",
        "Write a Python code that suggests clothing based on the temperature.\n",
        "If the temperature is below 10 print Coat and gloves, if the temperature is between 10 and 19 print Jacket, and if the temperature is 20 or more print T-shirt.\n",
        "Run the program with temperature = 15."
      ],
      "id": "MOMMxnuE0b8-"
    },
    {
      "cell_type": "code",
      "metadata": {
        "id": "V6RtrCOa0b8_",
        "colab": {
          "base_uri": "https://localhost:8080/"
        },
        "outputId": "96e7fd74-ec76-4a81-c456-e7dd6f31f1d2"
      },
      "execution_count": 13,
      "outputs": [
        {
          "output_type": "stream",
          "name": "stdout",
          "text": [
            "Temperature: 15°C\n",
            "Suggested Clothing: Jacket\n"
          ]
        }
      ],
      "source": [
        "\n",
        "temperature = 15\n",
        "\n",
        "if temperature < 10:\n",
        "    suggestion = \"Coat and gloves\"\n",
        "elif 10 <= temperature <= 19:\n",
        "    suggestion = \"Jacket\"\n",
        "else:  # 20 or more\n",
        "    suggestion = \"T-shirt\"\n",
        "\n",
        "print(f\"Temperature: {temperature}°C\")\n",
        "print(f\"Suggested Clothing: {suggestion}\")\n"
      ],
      "id": "V6RtrCOa0b8_"
    },
    {
      "cell_type": "markdown",
      "metadata": {
        "id": "R-i9Jzpn0b9A"
      },
      "source": [
        "## Question 8 – Loan Eligibility\n",
        "Write a Python code that checks loan eligibility.\n",
        "If the salary is at least 3000 and the credit score is at least 650 print Loan Approved, otherwise print Loan Denied.\n",
        "Run the program with salary = 3500 and credit_score = 640."
      ],
      "id": "R-i9Jzpn0b9A"
    },
    {
      "cell_type": "code",
      "metadata": {
        "id": "2M0s0bC40b9B",
        "colab": {
          "base_uri": "https://localhost:8080/"
        },
        "outputId": "910f94c4-f509-4840-92f4-475c42fa5d2f"
      },
      "execution_count": 14,
      "outputs": [
        {
          "output_type": "stream",
          "name": "stdout",
          "text": [
            "Loan Denied\n"
          ]
        }
      ],
      "source": [
        "\n",
        "salary = 3500\n",
        "credit_score = 640\n",
        "\n",
        "if salary >= 3000 and credit_score >= 650:\n",
        "    print(\"Loan Approved\")\n",
        "else:\n",
        "    print(\"Loan Denied\")\n"
      ],
      "id": "2M0s0bC40b9B"
    },
    {
      "cell_type": "markdown",
      "metadata": {
        "id": "I0WmTyFv0b9D"
      },
      "source": [
        "## Question 9 – Password Strength\n",
        "Write a Python code that checks if a password is strong, medium, or weak based on its length.\n",
        "If the password has fewer than 6 characters it is Weak, if it has 6 to 10 characters it is Medium, and if it has more than 10 characters it is Strong.\n",
        "Print the strength.\n",
        "Run the program with password = 'hello123'."
      ],
      "id": "I0WmTyFv0b9D"
    },
    {
      "cell_type": "code",
      "metadata": {
        "id": "Jm8fu7ft0b9E",
        "colab": {
          "base_uri": "https://localhost:8080/"
        },
        "outputId": "2186d75e-6559-49da-8c86-35e8acbd5f2f"
      },
      "execution_count": 15,
      "outputs": [
        {
          "output_type": "stream",
          "name": "stdout",
          "text": [
            "Password: hello123\n",
            "Strength: Medium\n"
          ]
        }
      ],
      "source": [
        "\n",
        "password = 'hello123'\n",
        "length = len(password)\n",
        "\n",
        "if length < 6:\n",
        "    strength = \"Weak\"\n",
        "elif 6 <= length <= 10:\n",
        "    strength = \"Medium\"\n",
        "else:  # length > 10\n",
        "    strength = \"Strong\"\n",
        "\n",
        "print(f\"Password: {password}\")\n",
        "print(f\"Strength: {strength}\")\n"
      ],
      "id": "Jm8fu7ft0b9E"
    },
    {
      "cell_type": "markdown",
      "metadata": {
        "id": "kgKSm4WB0b9F"
      },
      "source": [
        "## Question 10 – Guest List Checker\n",
        "Write a Python code that creates a list with three invited guests.\n",
        "Define a variable for a guest name.\n",
        "Check if the guest name is in the list.\n",
        "If the guest is in the list print Welcome, and if the guest is not in the list print Not on the list.\n",
        "Run the program with guest = 'Sara'."
      ],
      "id": "kgKSm4WB0b9F"
    },
    {
      "cell_type": "code",
      "metadata": {
        "id": "4pyiTbMT0b9G",
        "colab": {
          "base_uri": "https://localhost:8080/"
        },
        "outputId": "6e4d1b9c-2aaa-4cff-edea-eff9286452b9"
      },
      "execution_count": 20,
      "outputs": [
        {
          "output_type": "stream",
          "name": "stdout",
          "text": [
            "Welcome\n"
          ]
        }
      ],
      "source": [
        "\n",
        "guests = ['John', 'Sara', 'Mike']\n",
        "guest = 'Sara'\n",
        "\n",
        "if guest in guests:\n",
        "    print(\"Welcome\")\n",
        "else:\n",
        "    print(\"Not on the list\")\n"
      ],
      "id": "4pyiTbMT0b9G"
    }
  ],
  "metadata": {
    "kernelspec": {
      "display_name": "Python 3",
      "language": "python",
      "name": "python3"
    },
    "language_info": {
      "name": "python",
      "version": "3.x"
    },
    "colab": {
      "provenance": [],
      "include_colab_link": true
    }
  },
  "nbformat": 4,
  "nbformat_minor": 5
}
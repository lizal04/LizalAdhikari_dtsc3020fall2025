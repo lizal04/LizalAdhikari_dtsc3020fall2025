{
  "cells": [
    {
      "cell_type": "markdown",
      "metadata": {
        "id": "view-in-github",
        "colab_type": "text"
      },
      "source": [
        "<a href=\"https://colab.research.google.com/github/lizal04/LizalAdhikari_dtsc3020fall2025/blob/main/_DTSC3020_Midterm_Part2_Programming.ipynb\" target=\"_parent\"><img src=\"https://colab.research.google.com/assets/colab-badge.svg\" alt=\"Open In Colab\"/></a>"
      ]
    },
    {
      "cell_type": "markdown",
      "id": "8e58db4f",
      "metadata": {
        "id": "8e58db4f"
      },
      "source": [
        "# DTSC 3020 — Midterm Exam (Part 2: Programming)\n",
        "University of North Texas\n",
        "\n",
        "**Course:** Introduction to Computation with Python (DTSC 3020)  \n",
        "**Exam:** Midterm — Programming (Ch. 1–8 concepts)\n",
        "\n"
      ]
    },
    {
      "cell_type": "markdown",
      "id": "ed86aaec",
      "metadata": {
        "id": "ed86aaec"
      },
      "source": [
        "---\n",
        "### Instructions\n",
        "- Write clean, readable Python code for each question.\n",
        "- Use only standard Python; no external libraries.\n",
        "- Where required, write a function and return the result.\n",
        "- After each solution cell, there is a **Part 2 — Test Scenario**. Follow the prompt to run your code.\n",
        "\n",
        "---"
      ]
    },
    {
      "cell_type": "markdown",
      "id": "227c4435",
      "metadata": {
        "id": "227c4435"
      },
      "source": [
        "## Question 1 — Create Member ID\n",
        "Write a Python function `create_member_id(full_name)` that creates a Library Member ID from a person’s full name.\n",
        "\n",
        "**Rules**\n",
        "- Normalize the name: remove extra spaces, convert to lowercase, and split by spaces.\n",
        "- Use the last word as the last name (e.g., `\"John Ronald Reuel Tolkien\"` → last name `tolkien`).\n",
        "- Use the first letters of all earlier words as initials (e.g., `jrr` for the example above).\n",
        "- Construct the member ID in this exact format: `lastname_initials` (underscore between them; no spaces).\n",
        "\n",
        "**Examples**\n",
        "- `\"Sara Amini\"` → `amini_sa`\n",
        "- `\"Mary Jane Watson\"` → `watson_mj`\n",
        "- `\"LINA\"` (single word) → use the word for both parts: `lina_l`\n",
        "\n",
        "Part 2 — Test Scenario (run using your function)\n",
        "names = [\"Sara Amini\", \"Ali\", \"Mary Jane\", \"John Smith\", \"LINA\", \"madonna\", \"sara amini\"]\n",
        "\n",
        "\n",
        "\n"
      ]
    },
    {
      "cell_type": "code",
      "execution_count": 4,
      "id": "51411a35",
      "metadata": {
        "id": "51411a35"
      },
      "outputs": [],
      "source": [
        "# Write your answer here for Q1\n",
        "\n",
        "def create_member_id(full_name):\n",
        "    name = full_name.strip().lower()\n",
        "    parts = name.split()\n",
        "\n",
        "    if len(parts) == 1:\n",
        "        return f\"{parts[0]}_{parts[0][0]}\"\n",
        "\n",
        "    last_name = parts[-1]\n",
        "    initials = ''.join([word[0] for word in parts[:-1]])\n",
        "\n",
        "    member_id = f\"{last_name}_{initials}\"\n",
        "    return member_id\n"
      ]
    },
    {
      "cell_type": "code",
      "execution_count": 6,
      "id": "584ae4f0",
      "metadata": {
        "id": "584ae4f0",
        "colab": {
          "base_uri": "https://localhost:8080/"
        },
        "outputId": "81610876-ca1e-43c2-9985-e6864fba5272"
      },
      "outputs": [
        {
          "output_type": "stream",
          "name": "stdout",
          "text": [
            "Sara Amini → amini_s\n",
            "Ali → ali_a\n",
            "Mary Jane → jane_m\n",
            "John Smith → smith_j\n",
            "LINA → lina_l\n",
            "madonna → madonna_m\n",
            "sara amini → amini_s\n"
          ]
        }
      ],
      "source": [
        "# Part 2 — Test Scenario (run using your function)\n",
        "names = [\"Sara Amini\", \"Ali\", \"Mary Jane\", \"John Smith\", \"LINA\", \"madonna\", \"sara amini\"]\n",
        "\n",
        "for name in names:\n",
        "    print(f\"{name} → {create_member_id(name)}\")\n"
      ]
    },
    {
      "cell_type": "markdown",
      "id": "c1727720",
      "metadata": {
        "id": "c1727720"
      },
      "source": [
        "## Question 2 — Movie Ticket Booth\n",
        "\n",
        "Write a Python program that simulates a movie ticket booth using this price list:\n",
        "\n",
        "```python\n",
        "prices = {\"adult\": 12.5, \"child\": 8, \"senior\": 9.5, \"student\": 10}\n",
        "```\n",
        "\n",
        "**Program Requirements**\n",
        "- Repeatedly ask the user to enter a ticket type or type `done` to finish.\n",
        "- Valid inputs: `adult`, `child`, `senior`, `student`, or `done`.\n",
        "- If the ticket type exists, add its price to a running total and print a confirmation message.\n",
        "- If it doesn’t exist, print `\"Invalid ticket type\"`.\n",
        "- When the user types `done`, stop and show:\n",
        "  - **Subtotal** (sum of valid ticket prices)\n",
        "  - **Tax** = 8% of subtotal\n",
        "  - **Final total** = subtotal + tax\n"
      ]
    },
    {
      "cell_type": "code",
      "execution_count": 7,
      "id": "4b859e17",
      "metadata": {
        "id": "4b859e17",
        "colab": {
          "base_uri": "https://localhost:8080/"
        },
        "outputId": "d2f06d22-7c2d-471d-8688-3e203fd0a31c"
      },
      "outputs": [
        {
          "output_type": "stream",
          "name": "stdout",
          "text": [
            "Enter ticket type (adult, child, senior, student) or 'done' to finish: adult\n",
            "Added adult ticket for $ 12.5\n",
            "Enter ticket type (adult, child, senior, student) or 'done' to finish: child\n",
            "Added child ticket for $ 8\n",
            "Enter ticket type (adult, child, senior, student) or 'done' to finish: student\n",
            "Added student ticket for $ 10\n",
            "Enter ticket type (adult, child, senior, student) or 'done' to finish: done\n",
            "---------------\n",
            "Subtotal: $ 30.5\n",
            "Tax (8%): $ 2.44\n",
            "Final Total: $ 32.94\n"
          ]
        }
      ],
      "source": [
        "# Write your answer here\n",
        "\n",
        "prices = {\"adult\": 12.5, \"child\": 8, \"senior\": 9.5, \"student\": 10}\n",
        "subtotal = 0\n",
        "\n",
        "while True:\n",
        "    ticket_type = input(\"Enter ticket type (adult, child, senior, student) or 'done' to finish: \")\n",
        "\n",
        "    ticket_type = ticket_type.lower().strip()\n",
        "\n",
        "    if ticket_type == \"done\":\n",
        "        break\n",
        "\n",
        "    if ticket_type in prices:\n",
        "        subtotal = subtotal + prices[ticket_type]\n",
        "        print(\"Added\", ticket_type, \"ticket for $\", prices[ticket_type])\n",
        "    else:\n",
        "        print(\"Invalid ticket type\")\n",
        "\n",
        "tax = subtotal * 0.08\n",
        "final_total = subtotal + tax\n",
        "\n",
        "print(\"---------------\")\n",
        "print(\"Subtotal: $\", round(subtotal, 2))\n",
        "print(\"Tax (8%): $\", round(tax, 2))\n",
        "print(\"Final Total: $\", round(final_total, 2))\n"
      ]
    },
    {
      "cell_type": "markdown",
      "id": "17b39afe",
      "metadata": {
        "id": "17b39afe"
      },
      "source": [
        "**Part 2 — Example Scenario**\n",
        "When prompted, type the following (each on a new line), then press Enter after each entry:\n",
        "\n",
        "```\n",
        "adult\n",
        "child\n",
        "student\n",
        "done\n",
        "```\n",
        "Your program should complete and display the subtotal, tax, and final total based on these entries.\n"
      ]
    },
    {
      "cell_type": "markdown",
      "id": "28c710b6",
      "metadata": {
        "id": "28c710b6"
      },
      "source": [
        "## Question 3 — Student Grade Analyzer\n",
        "\n",
        "Write a Python function `analyze_grades(grades)` that takes a list of numbers (0–100) and returns three values:\n",
        "1. average grade\n",
        "2. highest grade\n",
        "3. lowest grade\n",
        "\n",
        "**Constraints**\n",
        "- Use a function and return statement(s).\n",
        "- Do not use external libraries.\n"
      ]
    },
    {
      "cell_type": "code",
      "execution_count": 11,
      "id": "efce3052",
      "metadata": {
        "id": "efce3052",
        "colab": {
          "base_uri": "https://localhost:8080/"
        },
        "outputId": "ae95188f-64e9-4726-8adf-26a66bdc3a9f"
      },
      "outputs": [
        {
          "output_type": "stream",
          "name": "stdout",
          "text": [
            "Average grade: 85.57142857142857\n",
            "Highest grade: 93\n",
            "Lowest grade: 72\n"
          ]
        }
      ],
      "source": [
        "# Write your answer here for Q3\n",
        "\n",
        "def analyze_grades(grades):\n",
        "    average = sum(grades) / len(grades)\n",
        "    highest = max(grades)\n",
        "    lowest = min(grades)\n",
        "\n",
        "    return average, highest, lowest\n",
        "grades_list = [88, 92, 79, 93, 85, 90, 72]\n",
        "avg, high, low = analyze_grades(grades_list)\n",
        "\n",
        "print(\"Average grade:\", avg)\n",
        "print(\"Highest grade:\", high)\n",
        "print(\"Lowest grade:\", low)\n"
      ]
    },
    {
      "cell_type": "code",
      "execution_count": null,
      "id": "ad2b0d29",
      "metadata": {
        "id": "ad2b0d29"
      },
      "outputs": [],
      "source": [
        "# Part 2 — Test Scenario\n",
        "sample = [88, 92, 79, 93, 85, 90, 72]\n"
      ]
    },
    {
      "cell_type": "markdown",
      "id": "d378f3c3",
      "metadata": {
        "id": "d378f3c3"
      },
      "source": [
        "## Question 4 — PIN Verification\n",
        "Write a Python program that simulates an ATM PIN verification system.\n",
        "\n",
        "**Requirements**\n",
        "- The correct PIN is `4321`.\n",
        "- The user has at most **3 attempts** to enter the correct PIN.\n",
        "- If the PIN is correct: print `Access granted.` and stop.\n",
        "- If all 3 attempts fail: print `Card blocked.`\n",
        "- After each wrong attempt, also print the counter in the form `Wrong (x/3)`.\n"
      ]
    },
    {
      "cell_type": "code",
      "execution_count": 13,
      "id": "5ea085a2",
      "metadata": {
        "id": "5ea085a2",
        "colab": {
          "base_uri": "https://localhost:8080/"
        },
        "outputId": "f536c1d3-a47c-43b5-a0eb-3c80fa921a10"
      },
      "outputs": [
        {
          "output_type": "stream",
          "name": "stdout",
          "text": [
            "Enter your PIN: 1111\n",
            "Wrong (1/3)\n",
            "Enter your PIN: 2222\n",
            "Wrong (2/3)\n",
            "Enter your PIN: 4321\n",
            "Access granted.\n"
          ]
        }
      ],
      "source": [
        "# Write your answer here\n",
        "# ATM PIN Verification System\n",
        "\n",
        "correct_pin = \"4321\"\n",
        "attempts = 3\n",
        "\n",
        "for i in range(1, attempts + 1):\n",
        "    pin = input(\"Enter your PIN: \")\n",
        "\n",
        "    if pin == correct_pin:\n",
        "        print(\"Access granted.\")\n",
        "        break\n",
        "    else:\n",
        "        print(f\"Wrong ({i}/3)\")\n",
        "\n",
        "        if i == attempts:\n",
        "            print(\"Card blocked.\")"
      ]
    },
    {
      "cell_type": "markdown",
      "id": "1c61e343",
      "metadata": {
        "id": "1c61e343"
      },
      "source": [
        "**Part 2 — Test Scenario**\n",
        "Run your program and, when prompted, enter these sequences to verify both behaviors:\n",
        "\n",
        "**Scenario A**\n",
        "```\n",
        "1111\n",
        "2222\n",
        "4321\n",
        "```\n",
        "\n",
        "\n"
      ]
    }
  ],
  "metadata": {
    "kernelspec": {
      "display_name": "Python 3",
      "language": "python",
      "name": "python3"
    },
    "language_info": {
      "name": "python",
      "version": "3.x"
    },
    "colab": {
      "provenance": [],
      "include_colab_link": true
    }
  },
  "nbformat": 4,
  "nbformat_minor": 5
}